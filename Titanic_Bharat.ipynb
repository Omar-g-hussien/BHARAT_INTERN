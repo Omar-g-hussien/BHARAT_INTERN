{
 "cells": [
  {
   "cell_type": "markdown",
   "id": "3187ee07",
   "metadata": {
    "papermill": {
     "duration": 0.012335,
     "end_time": "2024-03-11T20:40:18.407866",
     "exception": false,
     "start_time": "2024-03-11T20:40:18.395531",
     "status": "completed"
    },
    "tags": []
   },
   "source": [
    "# **Import Libraries**"
   ]
  },
  {
   "cell_type": "code",
   "execution_count": 2,
   "id": "0e51d279",
   "metadata": {
    "execution": {
     "iopub.execute_input": "2024-03-11T20:40:18.433544Z",
     "iopub.status.busy": "2024-03-11T20:40:18.433151Z",
     "iopub.status.idle": "2024-03-11T20:40:21.703620Z",
     "shell.execute_reply": "2024-03-11T20:40:21.702366Z"
    },
    "papermill": {
     "duration": 3.286808,
     "end_time": "2024-03-11T20:40:21.706779",
     "exception": false,
     "start_time": "2024-03-11T20:40:18.419971",
     "status": "completed"
    },
    "tags": []
   },
   "outputs": [],
   "source": [
    "import pandas as pd\n",
    "from sklearn.metrics import accuracy_score\n",
    "from sklearn.metrics import confusion_matrix\n",
    "from sklearn.model_selection import train_test_split\n",
    "from sklearn.linear_model import LogisticRegression"
   ]
  },
  {
   "cell_type": "markdown",
   "id": "3a5459fb",
   "metadata": {
    "papermill": {
     "duration": 0.012021,
     "end_time": "2024-03-11T20:40:21.731404",
     "exception": false,
     "start_time": "2024-03-11T20:40:21.719383",
     "status": "completed"
    },
    "tags": []
   },
   "source": [
    "# **Load Dataset**"
   ]
  },
  {
   "cell_type": "code",
   "execution_count": 3,
   "id": "dc85bded",
   "metadata": {
    "execution": {
     "iopub.execute_input": "2024-03-11T20:40:21.758886Z",
     "iopub.status.busy": "2024-03-11T20:40:21.757280Z",
     "iopub.status.idle": "2024-03-11T20:40:21.823669Z",
     "shell.execute_reply": "2024-03-11T20:40:21.822006Z"
    },
    "papermill": {
     "duration": 0.083006,
     "end_time": "2024-03-11T20:40:21.826480",
     "exception": false,
     "start_time": "2024-03-11T20:40:21.743474",
     "status": "completed"
    },
    "tags": []
   },
   "outputs": [
    {
     "data": {
      "text/html": [
       "<div>\n",
       "<style scoped>\n",
       "    .dataframe tbody tr th:only-of-type {\n",
       "        vertical-align: middle;\n",
       "    }\n",
       "\n",
       "    .dataframe tbody tr th {\n",
       "        vertical-align: top;\n",
       "    }\n",
       "\n",
       "    .dataframe thead th {\n",
       "        text-align: right;\n",
       "    }\n",
       "</style>\n",
       "<table border=\"1\" class=\"dataframe\">\n",
       "  <thead>\n",
       "    <tr style=\"text-align: right;\">\n",
       "      <th></th>\n",
       "      <th>PassengerId</th>\n",
       "      <th>Survived</th>\n",
       "      <th>Pclass</th>\n",
       "      <th>Name</th>\n",
       "      <th>Sex</th>\n",
       "      <th>Age</th>\n",
       "      <th>SibSp</th>\n",
       "      <th>Parch</th>\n",
       "      <th>Ticket</th>\n",
       "      <th>Fare</th>\n",
       "      <th>Cabin</th>\n",
       "      <th>Embarked</th>\n",
       "    </tr>\n",
       "  </thead>\n",
       "  <tbody>\n",
       "    <tr>\n",
       "      <th>0</th>\n",
       "      <td>1</td>\n",
       "      <td>0</td>\n",
       "      <td>3</td>\n",
       "      <td>Braund, Mr. Owen Harris</td>\n",
       "      <td>male</td>\n",
       "      <td>22.0</td>\n",
       "      <td>1</td>\n",
       "      <td>0</td>\n",
       "      <td>A/5 21171</td>\n",
       "      <td>7.2500</td>\n",
       "      <td>NaN</td>\n",
       "      <td>S</td>\n",
       "    </tr>\n",
       "    <tr>\n",
       "      <th>1</th>\n",
       "      <td>2</td>\n",
       "      <td>1</td>\n",
       "      <td>1</td>\n",
       "      <td>Cumings, Mrs. John Bradley (Florence Briggs Th...</td>\n",
       "      <td>female</td>\n",
       "      <td>38.0</td>\n",
       "      <td>1</td>\n",
       "      <td>0</td>\n",
       "      <td>PC 17599</td>\n",
       "      <td>71.2833</td>\n",
       "      <td>C85</td>\n",
       "      <td>C</td>\n",
       "    </tr>\n",
       "    <tr>\n",
       "      <th>2</th>\n",
       "      <td>3</td>\n",
       "      <td>1</td>\n",
       "      <td>3</td>\n",
       "      <td>Heikkinen, Miss. Laina</td>\n",
       "      <td>female</td>\n",
       "      <td>26.0</td>\n",
       "      <td>0</td>\n",
       "      <td>0</td>\n",
       "      <td>STON/O2. 3101282</td>\n",
       "      <td>7.9250</td>\n",
       "      <td>NaN</td>\n",
       "      <td>S</td>\n",
       "    </tr>\n",
       "    <tr>\n",
       "      <th>3</th>\n",
       "      <td>4</td>\n",
       "      <td>1</td>\n",
       "      <td>1</td>\n",
       "      <td>Futrelle, Mrs. Jacques Heath (Lily May Peel)</td>\n",
       "      <td>female</td>\n",
       "      <td>35.0</td>\n",
       "      <td>1</td>\n",
       "      <td>0</td>\n",
       "      <td>113803</td>\n",
       "      <td>53.1000</td>\n",
       "      <td>C123</td>\n",
       "      <td>S</td>\n",
       "    </tr>\n",
       "    <tr>\n",
       "      <th>4</th>\n",
       "      <td>5</td>\n",
       "      <td>0</td>\n",
       "      <td>3</td>\n",
       "      <td>Allen, Mr. William Henry</td>\n",
       "      <td>male</td>\n",
       "      <td>35.0</td>\n",
       "      <td>0</td>\n",
       "      <td>0</td>\n",
       "      <td>373450</td>\n",
       "      <td>8.0500</td>\n",
       "      <td>NaN</td>\n",
       "      <td>S</td>\n",
       "    </tr>\n",
       "    <tr>\n",
       "      <th>...</th>\n",
       "      <td>...</td>\n",
       "      <td>...</td>\n",
       "      <td>...</td>\n",
       "      <td>...</td>\n",
       "      <td>...</td>\n",
       "      <td>...</td>\n",
       "      <td>...</td>\n",
       "      <td>...</td>\n",
       "      <td>...</td>\n",
       "      <td>...</td>\n",
       "      <td>...</td>\n",
       "      <td>...</td>\n",
       "    </tr>\n",
       "    <tr>\n",
       "      <th>886</th>\n",
       "      <td>887</td>\n",
       "      <td>0</td>\n",
       "      <td>2</td>\n",
       "      <td>Montvila, Rev. Juozas</td>\n",
       "      <td>male</td>\n",
       "      <td>27.0</td>\n",
       "      <td>0</td>\n",
       "      <td>0</td>\n",
       "      <td>211536</td>\n",
       "      <td>13.0000</td>\n",
       "      <td>NaN</td>\n",
       "      <td>S</td>\n",
       "    </tr>\n",
       "    <tr>\n",
       "      <th>887</th>\n",
       "      <td>888</td>\n",
       "      <td>1</td>\n",
       "      <td>1</td>\n",
       "      <td>Graham, Miss. Margaret Edith</td>\n",
       "      <td>female</td>\n",
       "      <td>19.0</td>\n",
       "      <td>0</td>\n",
       "      <td>0</td>\n",
       "      <td>112053</td>\n",
       "      <td>30.0000</td>\n",
       "      <td>B42</td>\n",
       "      <td>S</td>\n",
       "    </tr>\n",
       "    <tr>\n",
       "      <th>888</th>\n",
       "      <td>889</td>\n",
       "      <td>0</td>\n",
       "      <td>3</td>\n",
       "      <td>Johnston, Miss. Catherine Helen \"Carrie\"</td>\n",
       "      <td>female</td>\n",
       "      <td>NaN</td>\n",
       "      <td>1</td>\n",
       "      <td>2</td>\n",
       "      <td>W./C. 6607</td>\n",
       "      <td>23.4500</td>\n",
       "      <td>NaN</td>\n",
       "      <td>S</td>\n",
       "    </tr>\n",
       "    <tr>\n",
       "      <th>889</th>\n",
       "      <td>890</td>\n",
       "      <td>1</td>\n",
       "      <td>1</td>\n",
       "      <td>Behr, Mr. Karl Howell</td>\n",
       "      <td>male</td>\n",
       "      <td>26.0</td>\n",
       "      <td>0</td>\n",
       "      <td>0</td>\n",
       "      <td>111369</td>\n",
       "      <td>30.0000</td>\n",
       "      <td>C148</td>\n",
       "      <td>C</td>\n",
       "    </tr>\n",
       "    <tr>\n",
       "      <th>890</th>\n",
       "      <td>891</td>\n",
       "      <td>0</td>\n",
       "      <td>3</td>\n",
       "      <td>Dooley, Mr. Patrick</td>\n",
       "      <td>male</td>\n",
       "      <td>32.0</td>\n",
       "      <td>0</td>\n",
       "      <td>0</td>\n",
       "      <td>370376</td>\n",
       "      <td>7.7500</td>\n",
       "      <td>NaN</td>\n",
       "      <td>Q</td>\n",
       "    </tr>\n",
       "  </tbody>\n",
       "</table>\n",
       "<p>891 rows × 12 columns</p>\n",
       "</div>"
      ],
      "text/plain": [
       "     PassengerId  Survived  Pclass  \\\n",
       "0              1         0       3   \n",
       "1              2         1       1   \n",
       "2              3         1       3   \n",
       "3              4         1       1   \n",
       "4              5         0       3   \n",
       "..           ...       ...     ...   \n",
       "886          887         0       2   \n",
       "887          888         1       1   \n",
       "888          889         0       3   \n",
       "889          890         1       1   \n",
       "890          891         0       3   \n",
       "\n",
       "                                                  Name     Sex   Age  SibSp  \\\n",
       "0                              Braund, Mr. Owen Harris    male  22.0      1   \n",
       "1    Cumings, Mrs. John Bradley (Florence Briggs Th...  female  38.0      1   \n",
       "2                               Heikkinen, Miss. Laina  female  26.0      0   \n",
       "3         Futrelle, Mrs. Jacques Heath (Lily May Peel)  female  35.0      1   \n",
       "4                             Allen, Mr. William Henry    male  35.0      0   \n",
       "..                                                 ...     ...   ...    ...   \n",
       "886                              Montvila, Rev. Juozas    male  27.0      0   \n",
       "887                       Graham, Miss. Margaret Edith  female  19.0      0   \n",
       "888           Johnston, Miss. Catherine Helen \"Carrie\"  female   NaN      1   \n",
       "889                              Behr, Mr. Karl Howell    male  26.0      0   \n",
       "890                                Dooley, Mr. Patrick    male  32.0      0   \n",
       "\n",
       "     Parch            Ticket     Fare Cabin Embarked  \n",
       "0        0         A/5 21171   7.2500   NaN        S  \n",
       "1        0          PC 17599  71.2833   C85        C  \n",
       "2        0  STON/O2. 3101282   7.9250   NaN        S  \n",
       "3        0            113803  53.1000  C123        S  \n",
       "4        0            373450   8.0500   NaN        S  \n",
       "..     ...               ...      ...   ...      ...  \n",
       "886      0            211536  13.0000   NaN        S  \n",
       "887      0            112053  30.0000   B42        S  \n",
       "888      2        W./C. 6607  23.4500   NaN        S  \n",
       "889      0            111369  30.0000  C148        C  \n",
       "890      0            370376   7.7500   NaN        Q  \n",
       "\n",
       "[891 rows x 12 columns]"
      ]
     },
     "execution_count": 3,
     "metadata": {},
     "output_type": "execute_result"
    }
   ],
   "source": [
    "df = pd.read_csv(r\"D:\\Intern\\BAHARAT INTERN\\Task_2\\Titanic-Dataset.csv\")\n",
    "df"
   ]
  },
  {
   "cell_type": "markdown",
   "id": "14fc867b",
   "metadata": {
    "papermill": {
     "duration": 0.012262,
     "end_time": "2024-03-11T20:40:21.851208",
     "exception": false,
     "start_time": "2024-03-11T20:40:21.838946",
     "status": "completed"
    },
    "tags": []
   },
   "source": [
    "# **Data Pre-Processing**"
   ]
  },
  {
   "cell_type": "code",
   "execution_count": 4,
   "id": "60637d76",
   "metadata": {
    "execution": {
     "iopub.execute_input": "2024-03-11T20:40:21.880723Z",
     "iopub.status.busy": "2024-03-11T20:40:21.880313Z",
     "iopub.status.idle": "2024-03-11T20:40:21.919886Z",
     "shell.execute_reply": "2024-03-11T20:40:21.918121Z"
    },
    "papermill": {
     "duration": 0.05714,
     "end_time": "2024-03-11T20:40:21.922916",
     "exception": false,
     "start_time": "2024-03-11T20:40:21.865776",
     "status": "completed"
    },
    "tags": []
   },
   "outputs": [
    {
     "name": "stdout",
     "output_type": "stream",
     "text": [
      "<class 'pandas.core.frame.DataFrame'>\n",
      "RangeIndex: 891 entries, 0 to 890\n",
      "Data columns (total 12 columns):\n",
      " #   Column       Non-Null Count  Dtype  \n",
      "---  ------       --------------  -----  \n",
      " 0   PassengerId  891 non-null    int64  \n",
      " 1   Survived     891 non-null    int64  \n",
      " 2   Pclass       891 non-null    int64  \n",
      " 3   Name         891 non-null    object \n",
      " 4   Sex          891 non-null    object \n",
      " 5   Age          714 non-null    float64\n",
      " 6   SibSp        891 non-null    int64  \n",
      " 7   Parch        891 non-null    int64  \n",
      " 8   Ticket       891 non-null    object \n",
      " 9   Fare         891 non-null    float64\n",
      " 10  Cabin        204 non-null    object \n",
      " 11  Embarked     889 non-null    object \n",
      "dtypes: float64(2), int64(5), object(5)\n",
      "memory usage: 83.7+ KB\n"
     ]
    }
   ],
   "source": [
    "df.info()"
   ]
  },
  {
   "cell_type": "code",
   "execution_count": 5,
   "id": "96799798",
   "metadata": {
    "execution": {
     "iopub.execute_input": "2024-03-11T20:40:21.952944Z",
     "iopub.status.busy": "2024-03-11T20:40:21.951620Z",
     "iopub.status.idle": "2024-03-11T20:40:21.960147Z",
     "shell.execute_reply": "2024-03-11T20:40:21.959207Z"
    },
    "papermill": {
     "duration": 0.026048,
     "end_time": "2024-03-11T20:40:21.962541",
     "exception": false,
     "start_time": "2024-03-11T20:40:21.936493",
     "status": "completed"
    },
    "tags": []
   },
   "outputs": [
    {
     "data": {
      "text/plain": [
       "Index(['PassengerId', 'Survived', 'Pclass', 'Name', 'Sex', 'Age', 'SibSp',\n",
       "       'Parch', 'Ticket', 'Fare', 'Cabin', 'Embarked'],\n",
       "      dtype='object')"
      ]
     },
     "execution_count": 5,
     "metadata": {},
     "output_type": "execute_result"
    }
   ],
   "source": [
    "df.columns"
   ]
  },
  {
   "cell_type": "code",
   "execution_count": 6,
   "id": "6e863f08",
   "metadata": {
    "execution": {
     "iopub.execute_input": "2024-03-11T20:40:21.995255Z",
     "iopub.status.busy": "2024-03-11T20:40:21.993839Z",
     "iopub.status.idle": "2024-03-11T20:40:22.006371Z",
     "shell.execute_reply": "2024-03-11T20:40:22.004844Z"
    },
    "papermill": {
     "duration": 0.030816,
     "end_time": "2024-03-11T20:40:22.009805",
     "exception": false,
     "start_time": "2024-03-11T20:40:21.978989",
     "status": "completed"
    },
    "tags": []
   },
   "outputs": [
    {
     "data": {
      "text/plain": [
       "PassengerId      0\n",
       "Survived         0\n",
       "Pclass           0\n",
       "Name             0\n",
       "Sex              0\n",
       "Age            177\n",
       "SibSp            0\n",
       "Parch            0\n",
       "Ticket           0\n",
       "Fare             0\n",
       "Cabin          687\n",
       "Embarked         2\n",
       "dtype: int64"
      ]
     },
     "execution_count": 6,
     "metadata": {},
     "output_type": "execute_result"
    }
   ],
   "source": [
    "df.isna().sum()"
   ]
  },
  {
   "cell_type": "code",
   "execution_count": 7,
   "id": "488bca71",
   "metadata": {
    "execution": {
     "iopub.execute_input": "2024-03-11T20:40:22.037593Z",
     "iopub.status.busy": "2024-03-11T20:40:22.037153Z",
     "iopub.status.idle": "2024-03-11T20:40:22.043845Z",
     "shell.execute_reply": "2024-03-11T20:40:22.042884Z"
    },
    "papermill": {
     "duration": 0.023153,
     "end_time": "2024-03-11T20:40:22.046133",
     "exception": false,
     "start_time": "2024-03-11T20:40:22.022980",
     "status": "completed"
    },
    "tags": []
   },
   "outputs": [
    {
     "data": {
      "text/plain": [
       "10692"
      ]
     },
     "execution_count": 7,
     "metadata": {},
     "output_type": "execute_result"
    }
   ],
   "source": [
    "df.size"
   ]
  },
  {
   "cell_type": "code",
   "execution_count": 8,
   "id": "1e5c744b",
   "metadata": {
    "execution": {
     "iopub.execute_input": "2024-03-11T20:40:22.075248Z",
     "iopub.status.busy": "2024-03-11T20:40:22.074696Z",
     "iopub.status.idle": "2024-03-11T20:40:22.082552Z",
     "shell.execute_reply": "2024-03-11T20:40:22.081280Z"
    },
    "papermill": {
     "duration": 0.02564,
     "end_time": "2024-03-11T20:40:22.085437",
     "exception": false,
     "start_time": "2024-03-11T20:40:22.059797",
     "status": "completed"
    },
    "tags": []
   },
   "outputs": [
    {
     "data": {
      "text/plain": [
       "(891, 12)"
      ]
     },
     "execution_count": 8,
     "metadata": {},
     "output_type": "execute_result"
    }
   ],
   "source": [
    "df.shape"
   ]
  },
  {
   "cell_type": "markdown",
   "id": "b75be12e",
   "metadata": {
    "papermill": {
     "duration": 0.012867,
     "end_time": "2024-03-11T20:40:22.112171",
     "exception": false,
     "start_time": "2024-03-11T20:40:22.099304",
     "status": "completed"
    },
    "tags": []
   },
   "source": [
    "**Datatype Conversion**"
   ]
  },
  {
   "cell_type": "markdown",
   "id": "df11bfad",
   "metadata": {
    "papermill": {
     "duration": 0.012766,
     "end_time": "2024-03-11T20:40:22.138201",
     "exception": false,
     "start_time": "2024-03-11T20:40:22.125435",
     "status": "completed"
    },
    "tags": []
   },
   "source": [
    "Handling NA values"
   ]
  },
  {
   "cell_type": "code",
   "execution_count": 9,
   "id": "bc50724b",
   "metadata": {
    "execution": {
     "iopub.execute_input": "2024-03-11T20:40:22.167154Z",
     "iopub.status.busy": "2024-03-11T20:40:22.166661Z",
     "iopub.status.idle": "2024-03-11T20:40:22.176784Z",
     "shell.execute_reply": "2024-03-11T20:40:22.175284Z"
    },
    "papermill": {
     "duration": 0.029045,
     "end_time": "2024-03-11T20:40:22.180760",
     "exception": false,
     "start_time": "2024-03-11T20:40:22.151715",
     "status": "completed"
    },
    "tags": []
   },
   "outputs": [],
   "source": [
    "df['Age'].fillna(df['Age'].mean(),inplace=True)"
   ]
  },
  {
   "cell_type": "code",
   "execution_count": 10,
   "id": "97777914",
   "metadata": {
    "execution": {
     "iopub.execute_input": "2024-03-11T20:40:22.210973Z",
     "iopub.status.busy": "2024-03-11T20:40:22.210457Z",
     "iopub.status.idle": "2024-03-11T20:40:22.222531Z",
     "shell.execute_reply": "2024-03-11T20:40:22.220893Z"
    },
    "papermill": {
     "duration": 0.032116,
     "end_time": "2024-03-11T20:40:22.227072",
     "exception": false,
     "start_time": "2024-03-11T20:40:22.194956",
     "status": "completed"
    },
    "tags": []
   },
   "outputs": [
    {
     "data": {
      "text/plain": [
       "PassengerId      0\n",
       "Survived         0\n",
       "Pclass           0\n",
       "Name             0\n",
       "Sex              0\n",
       "Age              0\n",
       "SibSp            0\n",
       "Parch            0\n",
       "Ticket           0\n",
       "Fare             0\n",
       "Cabin          687\n",
       "Embarked         2\n",
       "dtype: int64"
      ]
     },
     "execution_count": 10,
     "metadata": {},
     "output_type": "execute_result"
    }
   ],
   "source": [
    "df.isna().sum()"
   ]
  },
  {
   "cell_type": "markdown",
   "id": "ec46f2f2",
   "metadata": {
    "papermill": {
     "duration": 0.015249,
     "end_time": "2024-03-11T20:40:22.257043",
     "exception": false,
     "start_time": "2024-03-11T20:40:22.241794",
     "status": "completed"
    },
    "tags": []
   },
   "source": [
    "Converting categorical data to quantitative data"
   ]
  },
  {
   "cell_type": "code",
   "execution_count": 11,
   "id": "85146da2",
   "metadata": {
    "execution": {
     "iopub.execute_input": "2024-03-11T20:40:22.287466Z",
     "iopub.status.busy": "2024-03-11T20:40:22.286782Z",
     "iopub.status.idle": "2024-03-11T20:40:22.296310Z",
     "shell.execute_reply": "2024-03-11T20:40:22.294849Z"
    },
    "papermill": {
     "duration": 0.028072,
     "end_time": "2024-03-11T20:40:22.299700",
     "exception": false,
     "start_time": "2024-03-11T20:40:22.271628",
     "status": "completed"
    },
    "tags": []
   },
   "outputs": [],
   "source": [
    "df['Sex'] = df['Sex'].map({'male':1,'female':0}).astype(int)"
   ]
  },
  {
   "cell_type": "markdown",
   "id": "bb0d04da",
   "metadata": {
    "papermill": {
     "duration": 0.013203,
     "end_time": "2024-03-11T20:40:22.327427",
     "exception": false,
     "start_time": "2024-03-11T20:40:22.314224",
     "status": "completed"
    },
    "tags": []
   },
   "source": [
    "Handling Embarked column, replacing S,C,Q classes using one hot encoding"
   ]
  },
  {
   "cell_type": "code",
   "execution_count": 12,
   "id": "b998d878",
   "metadata": {
    "execution": {
     "iopub.execute_input": "2024-03-11T20:40:22.357099Z",
     "iopub.status.busy": "2024-03-11T20:40:22.356561Z",
     "iopub.status.idle": "2024-03-11T20:40:22.365344Z",
     "shell.execute_reply": "2024-03-11T20:40:22.363987Z"
    },
    "papermill": {
     "duration": 0.027286,
     "end_time": "2024-03-11T20:40:22.368208",
     "exception": false,
     "start_time": "2024-03-11T20:40:22.340922",
     "status": "completed"
    },
    "tags": []
   },
   "outputs": [
    {
     "data": {
      "text/plain": [
       "array(['S', 'C', 'Q', nan], dtype=object)"
      ]
     },
     "execution_count": 12,
     "metadata": {},
     "output_type": "execute_result"
    }
   ],
   "source": [
    "df['Embarked'].unique()"
   ]
  },
  {
   "cell_type": "code",
   "execution_count": 13,
   "id": "11162587",
   "metadata": {
    "execution": {
     "iopub.execute_input": "2024-03-11T20:40:22.399092Z",
     "iopub.status.busy": "2024-03-11T20:40:22.398357Z",
     "iopub.status.idle": "2024-03-11T20:40:22.421456Z",
     "shell.execute_reply": "2024-03-11T20:40:22.419974Z"
    },
    "papermill": {
     "duration": 0.041791,
     "end_time": "2024-03-11T20:40:22.424384",
     "exception": false,
     "start_time": "2024-03-11T20:40:22.382593",
     "status": "completed"
    },
    "tags": []
   },
   "outputs": [
    {
     "data": {
      "text/html": [
       "<div>\n",
       "<style scoped>\n",
       "    .dataframe tbody tr th:only-of-type {\n",
       "        vertical-align: middle;\n",
       "    }\n",
       "\n",
       "    .dataframe tbody tr th {\n",
       "        vertical-align: top;\n",
       "    }\n",
       "\n",
       "    .dataframe thead th {\n",
       "        text-align: right;\n",
       "    }\n",
       "</style>\n",
       "<table border=\"1\" class=\"dataframe\">\n",
       "  <thead>\n",
       "    <tr style=\"text-align: right;\">\n",
       "      <th></th>\n",
       "      <th>PassengerId</th>\n",
       "      <th>Survived</th>\n",
       "      <th>Pclass</th>\n",
       "      <th>Name</th>\n",
       "      <th>Sex</th>\n",
       "      <th>Age</th>\n",
       "      <th>SibSp</th>\n",
       "      <th>Parch</th>\n",
       "      <th>Ticket</th>\n",
       "      <th>Fare</th>\n",
       "      <th>Cabin</th>\n",
       "      <th>Embarked_C</th>\n",
       "      <th>Embarked_Q</th>\n",
       "      <th>Embarked_S</th>\n",
       "    </tr>\n",
       "  </thead>\n",
       "  <tbody>\n",
       "    <tr>\n",
       "      <th>0</th>\n",
       "      <td>1</td>\n",
       "      <td>0</td>\n",
       "      <td>3</td>\n",
       "      <td>Braund, Mr. Owen Harris</td>\n",
       "      <td>1</td>\n",
       "      <td>22.000000</td>\n",
       "      <td>1</td>\n",
       "      <td>0</td>\n",
       "      <td>A/5 21171</td>\n",
       "      <td>7.2500</td>\n",
       "      <td>NaN</td>\n",
       "      <td>0</td>\n",
       "      <td>0</td>\n",
       "      <td>1</td>\n",
       "    </tr>\n",
       "    <tr>\n",
       "      <th>1</th>\n",
       "      <td>2</td>\n",
       "      <td>1</td>\n",
       "      <td>1</td>\n",
       "      <td>Cumings, Mrs. John Bradley (Florence Briggs Th...</td>\n",
       "      <td>0</td>\n",
       "      <td>38.000000</td>\n",
       "      <td>1</td>\n",
       "      <td>0</td>\n",
       "      <td>PC 17599</td>\n",
       "      <td>71.2833</td>\n",
       "      <td>C85</td>\n",
       "      <td>1</td>\n",
       "      <td>0</td>\n",
       "      <td>0</td>\n",
       "    </tr>\n",
       "    <tr>\n",
       "      <th>2</th>\n",
       "      <td>3</td>\n",
       "      <td>1</td>\n",
       "      <td>3</td>\n",
       "      <td>Heikkinen, Miss. Laina</td>\n",
       "      <td>0</td>\n",
       "      <td>26.000000</td>\n",
       "      <td>0</td>\n",
       "      <td>0</td>\n",
       "      <td>STON/O2. 3101282</td>\n",
       "      <td>7.9250</td>\n",
       "      <td>NaN</td>\n",
       "      <td>0</td>\n",
       "      <td>0</td>\n",
       "      <td>1</td>\n",
       "    </tr>\n",
       "    <tr>\n",
       "      <th>3</th>\n",
       "      <td>4</td>\n",
       "      <td>1</td>\n",
       "      <td>1</td>\n",
       "      <td>Futrelle, Mrs. Jacques Heath (Lily May Peel)</td>\n",
       "      <td>0</td>\n",
       "      <td>35.000000</td>\n",
       "      <td>1</td>\n",
       "      <td>0</td>\n",
       "      <td>113803</td>\n",
       "      <td>53.1000</td>\n",
       "      <td>C123</td>\n",
       "      <td>0</td>\n",
       "      <td>0</td>\n",
       "      <td>1</td>\n",
       "    </tr>\n",
       "    <tr>\n",
       "      <th>4</th>\n",
       "      <td>5</td>\n",
       "      <td>0</td>\n",
       "      <td>3</td>\n",
       "      <td>Allen, Mr. William Henry</td>\n",
       "      <td>1</td>\n",
       "      <td>35.000000</td>\n",
       "      <td>0</td>\n",
       "      <td>0</td>\n",
       "      <td>373450</td>\n",
       "      <td>8.0500</td>\n",
       "      <td>NaN</td>\n",
       "      <td>0</td>\n",
       "      <td>0</td>\n",
       "      <td>1</td>\n",
       "    </tr>\n",
       "    <tr>\n",
       "      <th>...</th>\n",
       "      <td>...</td>\n",
       "      <td>...</td>\n",
       "      <td>...</td>\n",
       "      <td>...</td>\n",
       "      <td>...</td>\n",
       "      <td>...</td>\n",
       "      <td>...</td>\n",
       "      <td>...</td>\n",
       "      <td>...</td>\n",
       "      <td>...</td>\n",
       "      <td>...</td>\n",
       "      <td>...</td>\n",
       "      <td>...</td>\n",
       "      <td>...</td>\n",
       "    </tr>\n",
       "    <tr>\n",
       "      <th>886</th>\n",
       "      <td>887</td>\n",
       "      <td>0</td>\n",
       "      <td>2</td>\n",
       "      <td>Montvila, Rev. Juozas</td>\n",
       "      <td>1</td>\n",
       "      <td>27.000000</td>\n",
       "      <td>0</td>\n",
       "      <td>0</td>\n",
       "      <td>211536</td>\n",
       "      <td>13.0000</td>\n",
       "      <td>NaN</td>\n",
       "      <td>0</td>\n",
       "      <td>0</td>\n",
       "      <td>1</td>\n",
       "    </tr>\n",
       "    <tr>\n",
       "      <th>887</th>\n",
       "      <td>888</td>\n",
       "      <td>1</td>\n",
       "      <td>1</td>\n",
       "      <td>Graham, Miss. Margaret Edith</td>\n",
       "      <td>0</td>\n",
       "      <td>19.000000</td>\n",
       "      <td>0</td>\n",
       "      <td>0</td>\n",
       "      <td>112053</td>\n",
       "      <td>30.0000</td>\n",
       "      <td>B42</td>\n",
       "      <td>0</td>\n",
       "      <td>0</td>\n",
       "      <td>1</td>\n",
       "    </tr>\n",
       "    <tr>\n",
       "      <th>888</th>\n",
       "      <td>889</td>\n",
       "      <td>0</td>\n",
       "      <td>3</td>\n",
       "      <td>Johnston, Miss. Catherine Helen \"Carrie\"</td>\n",
       "      <td>0</td>\n",
       "      <td>29.699118</td>\n",
       "      <td>1</td>\n",
       "      <td>2</td>\n",
       "      <td>W./C. 6607</td>\n",
       "      <td>23.4500</td>\n",
       "      <td>NaN</td>\n",
       "      <td>0</td>\n",
       "      <td>0</td>\n",
       "      <td>1</td>\n",
       "    </tr>\n",
       "    <tr>\n",
       "      <th>889</th>\n",
       "      <td>890</td>\n",
       "      <td>1</td>\n",
       "      <td>1</td>\n",
       "      <td>Behr, Mr. Karl Howell</td>\n",
       "      <td>1</td>\n",
       "      <td>26.000000</td>\n",
       "      <td>0</td>\n",
       "      <td>0</td>\n",
       "      <td>111369</td>\n",
       "      <td>30.0000</td>\n",
       "      <td>C148</td>\n",
       "      <td>1</td>\n",
       "      <td>0</td>\n",
       "      <td>0</td>\n",
       "    </tr>\n",
       "    <tr>\n",
       "      <th>890</th>\n",
       "      <td>891</td>\n",
       "      <td>0</td>\n",
       "      <td>3</td>\n",
       "      <td>Dooley, Mr. Patrick</td>\n",
       "      <td>1</td>\n",
       "      <td>32.000000</td>\n",
       "      <td>0</td>\n",
       "      <td>0</td>\n",
       "      <td>370376</td>\n",
       "      <td>7.7500</td>\n",
       "      <td>NaN</td>\n",
       "      <td>0</td>\n",
       "      <td>1</td>\n",
       "      <td>0</td>\n",
       "    </tr>\n",
       "  </tbody>\n",
       "</table>\n",
       "<p>891 rows × 14 columns</p>\n",
       "</div>"
      ],
      "text/plain": [
       "     PassengerId  Survived  Pclass  \\\n",
       "0              1         0       3   \n",
       "1              2         1       1   \n",
       "2              3         1       3   \n",
       "3              4         1       1   \n",
       "4              5         0       3   \n",
       "..           ...       ...     ...   \n",
       "886          887         0       2   \n",
       "887          888         1       1   \n",
       "888          889         0       3   \n",
       "889          890         1       1   \n",
       "890          891         0       3   \n",
       "\n",
       "                                                  Name  Sex        Age  SibSp  \\\n",
       "0                              Braund, Mr. Owen Harris    1  22.000000      1   \n",
       "1    Cumings, Mrs. John Bradley (Florence Briggs Th...    0  38.000000      1   \n",
       "2                               Heikkinen, Miss. Laina    0  26.000000      0   \n",
       "3         Futrelle, Mrs. Jacques Heath (Lily May Peel)    0  35.000000      1   \n",
       "4                             Allen, Mr. William Henry    1  35.000000      0   \n",
       "..                                                 ...  ...        ...    ...   \n",
       "886                              Montvila, Rev. Juozas    1  27.000000      0   \n",
       "887                       Graham, Miss. Margaret Edith    0  19.000000      0   \n",
       "888           Johnston, Miss. Catherine Helen \"Carrie\"    0  29.699118      1   \n",
       "889                              Behr, Mr. Karl Howell    1  26.000000      0   \n",
       "890                                Dooley, Mr. Patrick    1  32.000000      0   \n",
       "\n",
       "     Parch            Ticket     Fare Cabin  Embarked_C  Embarked_Q  \\\n",
       "0        0         A/5 21171   7.2500   NaN           0           0   \n",
       "1        0          PC 17599  71.2833   C85           1           0   \n",
       "2        0  STON/O2. 3101282   7.9250   NaN           0           0   \n",
       "3        0            113803  53.1000  C123           0           0   \n",
       "4        0            373450   8.0500   NaN           0           0   \n",
       "..     ...               ...      ...   ...         ...         ...   \n",
       "886      0            211536  13.0000   NaN           0           0   \n",
       "887      0            112053  30.0000   B42           0           0   \n",
       "888      2        W./C. 6607  23.4500   NaN           0           0   \n",
       "889      0            111369  30.0000  C148           1           0   \n",
       "890      0            370376   7.7500   NaN           0           1   \n",
       "\n",
       "     Embarked_S  \n",
       "0             1  \n",
       "1             0  \n",
       "2             1  \n",
       "3             1  \n",
       "4             1  \n",
       "..          ...  \n",
       "886           1  \n",
       "887           1  \n",
       "888           1  \n",
       "889           0  \n",
       "890           0  \n",
       "\n",
       "[891 rows x 14 columns]"
      ]
     },
     "execution_count": 13,
     "metadata": {},
     "output_type": "execute_result"
    }
   ],
   "source": [
    "df['Embarked'].fillna(\"S\",inplace=True)\n",
    "df =pd.get_dummies(df,columns=['Embarked'])\n",
    "df"
   ]
  },
  {
   "cell_type": "code",
   "execution_count": 14,
   "id": "8e207ac3",
   "metadata": {
    "execution": {
     "iopub.execute_input": "2024-03-11T20:40:22.455070Z",
     "iopub.status.busy": "2024-03-11T20:40:22.454646Z",
     "iopub.status.idle": "2024-03-11T20:40:22.465256Z",
     "shell.execute_reply": "2024-03-11T20:40:22.463559Z"
    },
    "papermill": {
     "duration": 0.029933,
     "end_time": "2024-03-11T20:40:22.468181",
     "exception": false,
     "start_time": "2024-03-11T20:40:22.438248",
     "status": "completed"
    },
    "tags": []
   },
   "outputs": [
    {
     "data": {
      "text/plain": [
       "PassengerId      0\n",
       "Survived         0\n",
       "Pclass           0\n",
       "Name             0\n",
       "Sex              0\n",
       "Age              0\n",
       "SibSp            0\n",
       "Parch            0\n",
       "Ticket           0\n",
       "Fare             0\n",
       "Cabin          687\n",
       "Embarked_C       0\n",
       "Embarked_Q       0\n",
       "Embarked_S       0\n",
       "dtype: int64"
      ]
     },
     "execution_count": 14,
     "metadata": {},
     "output_type": "execute_result"
    }
   ],
   "source": [
    "df.isna().sum()"
   ]
  },
  {
   "cell_type": "code",
   "execution_count": 15,
   "id": "b3d43ce7",
   "metadata": {
    "execution": {
     "iopub.execute_input": "2024-03-11T20:40:22.504141Z",
     "iopub.status.busy": "2024-03-11T20:40:22.503443Z",
     "iopub.status.idle": "2024-03-11T20:40:22.513034Z",
     "shell.execute_reply": "2024-03-11T20:40:22.511156Z"
    },
    "papermill": {
     "duration": 0.029908,
     "end_time": "2024-03-11T20:40:22.515990",
     "exception": false,
     "start_time": "2024-03-11T20:40:22.486082",
     "status": "completed"
    },
    "tags": []
   },
   "outputs": [
    {
     "data": {
      "text/plain": [
       "Index(['PassengerId', 'Survived', 'Pclass', 'Name', 'Sex', 'Age', 'SibSp',\n",
       "       'Parch', 'Ticket', 'Fare', 'Cabin', 'Embarked_C', 'Embarked_Q',\n",
       "       'Embarked_S'],\n",
       "      dtype='object')"
      ]
     },
     "execution_count": 15,
     "metadata": {},
     "output_type": "execute_result"
    }
   ],
   "source": [
    "df.columns"
   ]
  },
  {
   "cell_type": "code",
   "execution_count": 16,
   "id": "61399301",
   "metadata": {
    "execution": {
     "iopub.execute_input": "2024-03-11T20:40:22.549354Z",
     "iopub.status.busy": "2024-03-11T20:40:22.548630Z",
     "iopub.status.idle": "2024-03-11T20:40:22.595870Z",
     "shell.execute_reply": "2024-03-11T20:40:22.594524Z"
    },
    "papermill": {
     "duration": 0.066191,
     "end_time": "2024-03-11T20:40:22.598459",
     "exception": false,
     "start_time": "2024-03-11T20:40:22.532268",
     "status": "completed"
    },
    "tags": []
   },
   "outputs": [
    {
     "data": {
      "text/html": [
       "<div>\n",
       "<style scoped>\n",
       "    .dataframe tbody tr th:only-of-type {\n",
       "        vertical-align: middle;\n",
       "    }\n",
       "\n",
       "    .dataframe tbody tr th {\n",
       "        vertical-align: top;\n",
       "    }\n",
       "\n",
       "    .dataframe thead th {\n",
       "        text-align: right;\n",
       "    }\n",
       "</style>\n",
       "<table border=\"1\" class=\"dataframe\">\n",
       "  <thead>\n",
       "    <tr style=\"text-align: right;\">\n",
       "      <th></th>\n",
       "      <th>PassengerId</th>\n",
       "      <th>Survived</th>\n",
       "      <th>Pclass</th>\n",
       "      <th>Sex</th>\n",
       "      <th>Age</th>\n",
       "      <th>SibSp</th>\n",
       "      <th>Parch</th>\n",
       "      <th>Fare</th>\n",
       "      <th>Embarked_C</th>\n",
       "      <th>Embarked_Q</th>\n",
       "      <th>Embarked_S</th>\n",
       "    </tr>\n",
       "  </thead>\n",
       "  <tbody>\n",
       "    <tr>\n",
       "      <th>count</th>\n",
       "      <td>891.000000</td>\n",
       "      <td>891.000000</td>\n",
       "      <td>891.000000</td>\n",
       "      <td>891.000000</td>\n",
       "      <td>891.000000</td>\n",
       "      <td>891.000000</td>\n",
       "      <td>891.000000</td>\n",
       "      <td>891.000000</td>\n",
       "      <td>891.000000</td>\n",
       "      <td>891.000000</td>\n",
       "      <td>891.000000</td>\n",
       "    </tr>\n",
       "    <tr>\n",
       "      <th>mean</th>\n",
       "      <td>446.000000</td>\n",
       "      <td>0.383838</td>\n",
       "      <td>2.308642</td>\n",
       "      <td>0.647587</td>\n",
       "      <td>29.699118</td>\n",
       "      <td>0.523008</td>\n",
       "      <td>0.381594</td>\n",
       "      <td>32.204208</td>\n",
       "      <td>0.188552</td>\n",
       "      <td>0.086420</td>\n",
       "      <td>0.725028</td>\n",
       "    </tr>\n",
       "    <tr>\n",
       "      <th>std</th>\n",
       "      <td>257.353842</td>\n",
       "      <td>0.486592</td>\n",
       "      <td>0.836071</td>\n",
       "      <td>0.477990</td>\n",
       "      <td>13.002015</td>\n",
       "      <td>1.102743</td>\n",
       "      <td>0.806057</td>\n",
       "      <td>49.693429</td>\n",
       "      <td>0.391372</td>\n",
       "      <td>0.281141</td>\n",
       "      <td>0.446751</td>\n",
       "    </tr>\n",
       "    <tr>\n",
       "      <th>min</th>\n",
       "      <td>1.000000</td>\n",
       "      <td>0.000000</td>\n",
       "      <td>1.000000</td>\n",
       "      <td>0.000000</td>\n",
       "      <td>0.420000</td>\n",
       "      <td>0.000000</td>\n",
       "      <td>0.000000</td>\n",
       "      <td>0.000000</td>\n",
       "      <td>0.000000</td>\n",
       "      <td>0.000000</td>\n",
       "      <td>0.000000</td>\n",
       "    </tr>\n",
       "    <tr>\n",
       "      <th>25%</th>\n",
       "      <td>223.500000</td>\n",
       "      <td>0.000000</td>\n",
       "      <td>2.000000</td>\n",
       "      <td>0.000000</td>\n",
       "      <td>22.000000</td>\n",
       "      <td>0.000000</td>\n",
       "      <td>0.000000</td>\n",
       "      <td>7.910400</td>\n",
       "      <td>0.000000</td>\n",
       "      <td>0.000000</td>\n",
       "      <td>0.000000</td>\n",
       "    </tr>\n",
       "    <tr>\n",
       "      <th>50%</th>\n",
       "      <td>446.000000</td>\n",
       "      <td>0.000000</td>\n",
       "      <td>3.000000</td>\n",
       "      <td>1.000000</td>\n",
       "      <td>29.699118</td>\n",
       "      <td>0.000000</td>\n",
       "      <td>0.000000</td>\n",
       "      <td>14.454200</td>\n",
       "      <td>0.000000</td>\n",
       "      <td>0.000000</td>\n",
       "      <td>1.000000</td>\n",
       "    </tr>\n",
       "    <tr>\n",
       "      <th>75%</th>\n",
       "      <td>668.500000</td>\n",
       "      <td>1.000000</td>\n",
       "      <td>3.000000</td>\n",
       "      <td>1.000000</td>\n",
       "      <td>35.000000</td>\n",
       "      <td>1.000000</td>\n",
       "      <td>0.000000</td>\n",
       "      <td>31.000000</td>\n",
       "      <td>0.000000</td>\n",
       "      <td>0.000000</td>\n",
       "      <td>1.000000</td>\n",
       "    </tr>\n",
       "    <tr>\n",
       "      <th>max</th>\n",
       "      <td>891.000000</td>\n",
       "      <td>1.000000</td>\n",
       "      <td>3.000000</td>\n",
       "      <td>1.000000</td>\n",
       "      <td>80.000000</td>\n",
       "      <td>8.000000</td>\n",
       "      <td>6.000000</td>\n",
       "      <td>512.329200</td>\n",
       "      <td>1.000000</td>\n",
       "      <td>1.000000</td>\n",
       "      <td>1.000000</td>\n",
       "    </tr>\n",
       "  </tbody>\n",
       "</table>\n",
       "</div>"
      ],
      "text/plain": [
       "       PassengerId    Survived      Pclass         Sex         Age  \\\n",
       "count   891.000000  891.000000  891.000000  891.000000  891.000000   \n",
       "mean    446.000000    0.383838    2.308642    0.647587   29.699118   \n",
       "std     257.353842    0.486592    0.836071    0.477990   13.002015   \n",
       "min       1.000000    0.000000    1.000000    0.000000    0.420000   \n",
       "25%     223.500000    0.000000    2.000000    0.000000   22.000000   \n",
       "50%     446.000000    0.000000    3.000000    1.000000   29.699118   \n",
       "75%     668.500000    1.000000    3.000000    1.000000   35.000000   \n",
       "max     891.000000    1.000000    3.000000    1.000000   80.000000   \n",
       "\n",
       "            SibSp       Parch        Fare  Embarked_C  Embarked_Q  Embarked_S  \n",
       "count  891.000000  891.000000  891.000000  891.000000  891.000000  891.000000  \n",
       "mean     0.523008    0.381594   32.204208    0.188552    0.086420    0.725028  \n",
       "std      1.102743    0.806057   49.693429    0.391372    0.281141    0.446751  \n",
       "min      0.000000    0.000000    0.000000    0.000000    0.000000    0.000000  \n",
       "25%      0.000000    0.000000    7.910400    0.000000    0.000000    0.000000  \n",
       "50%      0.000000    0.000000   14.454200    0.000000    0.000000    1.000000  \n",
       "75%      1.000000    0.000000   31.000000    0.000000    0.000000    1.000000  \n",
       "max      8.000000    6.000000  512.329200    1.000000    1.000000    1.000000  "
      ]
     },
     "execution_count": 16,
     "metadata": {},
     "output_type": "execute_result"
    }
   ],
   "source": [
    "df.describe()"
   ]
  },
  {
   "cell_type": "markdown",
   "id": "c3177f38",
   "metadata": {
    "papermill": {
     "duration": 0.016384,
     "end_time": "2024-03-11T20:40:22.630473",
     "exception": false,
     "start_time": "2024-03-11T20:40:22.614089",
     "status": "completed"
    },
    "tags": []
   },
   "source": [
    "# **Splitting the Dataset**"
   ]
  },
  {
   "cell_type": "code",
   "execution_count": 17,
   "id": "4c3eede3",
   "metadata": {
    "execution": {
     "iopub.execute_input": "2024-03-11T20:40:22.664586Z",
     "iopub.status.busy": "2024-03-11T20:40:22.664170Z",
     "iopub.status.idle": "2024-03-11T20:40:22.677658Z",
     "shell.execute_reply": "2024-03-11T20:40:22.676189Z"
    },
    "papermill": {
     "duration": 0.033504,
     "end_time": "2024-03-11T20:40:22.680706",
     "exception": false,
     "start_time": "2024-03-11T20:40:22.647202",
     "status": "completed"
    },
    "tags": []
   },
   "outputs": [
    {
     "data": {
      "text/plain": [
       "PassengerId    0\n",
       "Pclass         0\n",
       "Sex            0\n",
       "Age            0\n",
       "SibSp          0\n",
       "Parch          0\n",
       "Fare           0\n",
       "Embarked_C     0\n",
       "Embarked_Q     0\n",
       "Embarked_S     0\n",
       "dtype: int64"
      ]
     },
     "execution_count": 17,
     "metadata": {},
     "output_type": "execute_result"
    }
   ],
   "source": [
    "df2 = df[['PassengerId', 'Pclass', 'Sex', 'Age', 'SibSp','Parch', 'Fare','Embarked_C', 'Embarked_Q','Embarked_S']]\n",
    "df2.isna().sum()"
   ]
  },
  {
   "cell_type": "code",
   "execution_count": 18,
   "id": "e9474b29",
   "metadata": {
    "execution": {
     "iopub.execute_input": "2024-03-11T20:40:22.712990Z",
     "iopub.status.busy": "2024-03-11T20:40:22.712576Z",
     "iopub.status.idle": "2024-03-11T20:40:22.723522Z",
     "shell.execute_reply": "2024-03-11T20:40:22.722210Z"
    },
    "papermill": {
     "duration": 0.030499,
     "end_time": "2024-03-11T20:40:22.726441",
     "exception": false,
     "start_time": "2024-03-11T20:40:22.695942",
     "status": "completed"
    },
    "tags": []
   },
   "outputs": [],
   "source": [
    "X = df2.iloc[:,:].values\n",
    "y = df['Survived'].values\n",
    "from sklearn.model_selection import train_test_split\n",
    "X_train, X_test, y_train, y_test = train_test_split(X, y, test_size = 0.20, random_state = 0)"
   ]
  },
  {
   "cell_type": "markdown",
   "id": "4ed4a8a9",
   "metadata": {
    "papermill": {
     "duration": 0.015836,
     "end_time": "2024-03-11T20:40:22.757186",
     "exception": false,
     "start_time": "2024-03-11T20:40:22.741350",
     "status": "completed"
    },
    "tags": []
   },
   "source": [
    "# **Training the Logistic Regression Model**"
   ]
  },
  {
   "cell_type": "code",
   "execution_count": 19,
   "id": "c022eac9",
   "metadata": {
    "execution": {
     "iopub.execute_input": "2024-03-11T20:40:22.797681Z",
     "iopub.status.busy": "2024-03-11T20:40:22.796717Z",
     "iopub.status.idle": "2024-03-11T20:40:22.851446Z",
     "shell.execute_reply": "2024-03-11T20:40:22.849999Z"
    },
    "papermill": {
     "duration": 0.079264,
     "end_time": "2024-03-11T20:40:22.854141",
     "exception": false,
     "start_time": "2024-03-11T20:40:22.774877",
     "status": "completed"
    },
    "tags": []
   },
   "outputs": [
    {
     "name": "stderr",
     "output_type": "stream",
     "text": [
      "C:\\Users\\HP\\anaconda3\\lib\\site-packages\\sklearn\\linear_model\\_logistic.py:458: ConvergenceWarning: lbfgs failed to converge (status=1):\n",
      "STOP: TOTAL NO. of ITERATIONS REACHED LIMIT.\n",
      "\n",
      "Increase the number of iterations (max_iter) or scale the data as shown in:\n",
      "    https://scikit-learn.org/stable/modules/preprocessing.html\n",
      "Please also refer to the documentation for alternative solver options:\n",
      "    https://scikit-learn.org/stable/modules/linear_model.html#logistic-regression\n",
      "  n_iter_i = _check_optimize_result(\n"
     ]
    },
    {
     "data": {
      "text/html": [
       "<style>#sk-container-id-1 {color: black;background-color: white;}#sk-container-id-1 pre{padding: 0;}#sk-container-id-1 div.sk-toggleable {background-color: white;}#sk-container-id-1 label.sk-toggleable__label {cursor: pointer;display: block;width: 100%;margin-bottom: 0;padding: 0.3em;box-sizing: border-box;text-align: center;}#sk-container-id-1 label.sk-toggleable__label-arrow:before {content: \"▸\";float: left;margin-right: 0.25em;color: #696969;}#sk-container-id-1 label.sk-toggleable__label-arrow:hover:before {color: black;}#sk-container-id-1 div.sk-estimator:hover label.sk-toggleable__label-arrow:before {color: black;}#sk-container-id-1 div.sk-toggleable__content {max-height: 0;max-width: 0;overflow: hidden;text-align: left;background-color: #f0f8ff;}#sk-container-id-1 div.sk-toggleable__content pre {margin: 0.2em;color: black;border-radius: 0.25em;background-color: #f0f8ff;}#sk-container-id-1 input.sk-toggleable__control:checked~div.sk-toggleable__content {max-height: 200px;max-width: 100%;overflow: auto;}#sk-container-id-1 input.sk-toggleable__control:checked~label.sk-toggleable__label-arrow:before {content: \"▾\";}#sk-container-id-1 div.sk-estimator input.sk-toggleable__control:checked~label.sk-toggleable__label {background-color: #d4ebff;}#sk-container-id-1 div.sk-label input.sk-toggleable__control:checked~label.sk-toggleable__label {background-color: #d4ebff;}#sk-container-id-1 input.sk-hidden--visually {border: 0;clip: rect(1px 1px 1px 1px);clip: rect(1px, 1px, 1px, 1px);height: 1px;margin: -1px;overflow: hidden;padding: 0;position: absolute;width: 1px;}#sk-container-id-1 div.sk-estimator {font-family: monospace;background-color: #f0f8ff;border: 1px dotted black;border-radius: 0.25em;box-sizing: border-box;margin-bottom: 0.5em;}#sk-container-id-1 div.sk-estimator:hover {background-color: #d4ebff;}#sk-container-id-1 div.sk-parallel-item::after {content: \"\";width: 100%;border-bottom: 1px solid gray;flex-grow: 1;}#sk-container-id-1 div.sk-label:hover label.sk-toggleable__label {background-color: #d4ebff;}#sk-container-id-1 div.sk-serial::before {content: \"\";position: absolute;border-left: 1px solid gray;box-sizing: border-box;top: 0;bottom: 0;left: 50%;z-index: 0;}#sk-container-id-1 div.sk-serial {display: flex;flex-direction: column;align-items: center;background-color: white;padding-right: 0.2em;padding-left: 0.2em;position: relative;}#sk-container-id-1 div.sk-item {position: relative;z-index: 1;}#sk-container-id-1 div.sk-parallel {display: flex;align-items: stretch;justify-content: center;background-color: white;position: relative;}#sk-container-id-1 div.sk-item::before, #sk-container-id-1 div.sk-parallel-item::before {content: \"\";position: absolute;border-left: 1px solid gray;box-sizing: border-box;top: 0;bottom: 0;left: 50%;z-index: -1;}#sk-container-id-1 div.sk-parallel-item {display: flex;flex-direction: column;z-index: 1;position: relative;background-color: white;}#sk-container-id-1 div.sk-parallel-item:first-child::after {align-self: flex-end;width: 50%;}#sk-container-id-1 div.sk-parallel-item:last-child::after {align-self: flex-start;width: 50%;}#sk-container-id-1 div.sk-parallel-item:only-child::after {width: 0;}#sk-container-id-1 div.sk-dashed-wrapped {border: 1px dashed gray;margin: 0 0.4em 0.5em 0.4em;box-sizing: border-box;padding-bottom: 0.4em;background-color: white;}#sk-container-id-1 div.sk-label label {font-family: monospace;font-weight: bold;display: inline-block;line-height: 1.2em;}#sk-container-id-1 div.sk-label-container {text-align: center;}#sk-container-id-1 div.sk-container {/* jupyter's `normalize.less` sets `[hidden] { display: none; }` but bootstrap.min.css set `[hidden] { display: none !important; }` so we also need the `!important` here to be able to override the default hidden behavior on the sphinx rendered scikit-learn.org. See: https://github.com/scikit-learn/scikit-learn/issues/21755 */display: inline-block !important;position: relative;}#sk-container-id-1 div.sk-text-repr-fallback {display: none;}</style><div id=\"sk-container-id-1\" class=\"sk-top-container\"><div class=\"sk-text-repr-fallback\"><pre>LogisticRegression()</pre><b>In a Jupyter environment, please rerun this cell to show the HTML representation or trust the notebook. <br />On GitHub, the HTML representation is unable to render, please try loading this page with nbviewer.org.</b></div><div class=\"sk-container\" hidden><div class=\"sk-item\"><div class=\"sk-estimator sk-toggleable\"><input class=\"sk-toggleable__control sk-hidden--visually\" id=\"sk-estimator-id-1\" type=\"checkbox\" checked><label for=\"sk-estimator-id-1\" class=\"sk-toggleable__label sk-toggleable__label-arrow\">LogisticRegression</label><div class=\"sk-toggleable__content\"><pre>LogisticRegression()</pre></div></div></div></div></div>"
      ],
      "text/plain": [
       "LogisticRegression()"
      ]
     },
     "execution_count": 19,
     "metadata": {},
     "output_type": "execute_result"
    }
   ],
   "source": [
    "from sklearn.linear_model import LogisticRegression\n",
    "regressor = LogisticRegression()\n",
    "regressor.fit(X_train, y_train)"
   ]
  },
  {
   "cell_type": "markdown",
   "id": "e88306e7",
   "metadata": {
    "papermill": {
     "duration": 0.014875,
     "end_time": "2024-03-11T20:40:22.884190",
     "exception": false,
     "start_time": "2024-03-11T20:40:22.869315",
     "status": "completed"
    },
    "tags": []
   },
   "source": [
    "# **Prediction**"
   ]
  },
  {
   "cell_type": "code",
   "execution_count": 20,
   "id": "df68117e",
   "metadata": {
    "execution": {
     "iopub.execute_input": "2024-03-11T20:40:22.917817Z",
     "iopub.status.busy": "2024-03-11T20:40:22.917408Z",
     "iopub.status.idle": "2024-03-11T20:40:22.922315Z",
     "shell.execute_reply": "2024-03-11T20:40:22.921369Z"
    },
    "papermill": {
     "duration": 0.024943,
     "end_time": "2024-03-11T20:40:22.924994",
     "exception": false,
     "start_time": "2024-03-11T20:40:22.900051",
     "status": "completed"
    },
    "tags": []
   },
   "outputs": [],
   "source": [
    "y_pred = regressor.predict(X_test)"
   ]
  },
  {
   "cell_type": "code",
   "execution_count": 21,
   "id": "22a2b199",
   "metadata": {
    "execution": {
     "iopub.execute_input": "2024-03-11T20:40:22.958918Z",
     "iopub.status.busy": "2024-03-11T20:40:22.958434Z",
     "iopub.status.idle": "2024-03-11T20:40:22.967904Z",
     "shell.execute_reply": "2024-03-11T20:40:22.966537Z"
    },
    "papermill": {
     "duration": 0.029865,
     "end_time": "2024-03-11T20:40:22.970683",
     "exception": false,
     "start_time": "2024-03-11T20:40:22.940818",
     "status": "completed"
    },
    "tags": []
   },
   "outputs": [
    {
     "name": "stdout",
     "output_type": "stream",
     "text": [
      "     Actual  Predicted\n",
      "0         0          0\n",
      "1         0          0\n",
      "2         0          0\n",
      "3         1          1\n",
      "4         1          1\n",
      "..      ...        ...\n",
      "174       1          1\n",
      "175       0          0\n",
      "176       1          1\n",
      "177       0          0\n",
      "178       0          0\n",
      "\n",
      "[179 rows x 2 columns]\n"
     ]
    }
   ],
   "source": [
    "df1 = pd.DataFrame({\"Actual\":y_test,\"Predicted\":y_pred})\n",
    "print(df1)"
   ]
  },
  {
   "cell_type": "markdown",
   "id": "18d2b325",
   "metadata": {
    "papermill": {
     "duration": 0.016952,
     "end_time": "2024-03-11T20:40:23.003957",
     "exception": false,
     "start_time": "2024-03-11T20:40:22.987005",
     "status": "completed"
    },
    "tags": []
   },
   "source": [
    "# **Validation**"
   ]
  },
  {
   "cell_type": "code",
   "execution_count": 22,
   "id": "16819c29",
   "metadata": {
    "execution": {
     "iopub.execute_input": "2024-03-11T20:40:23.037689Z",
     "iopub.status.busy": "2024-03-11T20:40:23.037229Z",
     "iopub.status.idle": "2024-03-11T20:40:23.044465Z",
     "shell.execute_reply": "2024-03-11T20:40:23.043250Z"
    },
    "papermill": {
     "duration": 0.026905,
     "end_time": "2024-03-11T20:40:23.047570",
     "exception": false,
     "start_time": "2024-03-11T20:40:23.020665",
     "status": "completed"
    },
    "tags": []
   },
   "outputs": [
    {
     "name": "stdout",
     "output_type": "stream",
     "text": [
      "Accuracy is:  0.7877094972067039\n"
     ]
    }
   ],
   "source": [
    "acc = accuracy_score(y_test,y_pred)\n",
    "print(\"Accuracy is: \",acc)"
   ]
  },
  {
   "cell_type": "markdown",
   "id": "13ff3437",
   "metadata": {
    "papermill": {
     "duration": 0.017872,
     "end_time": "2024-03-11T20:40:23.081538",
     "exception": false,
     "start_time": "2024-03-11T20:40:23.063666",
     "status": "completed"
    },
    "tags": []
   },
   "source": [
    "# **Confusion Matrix**"
   ]
  },
  {
   "cell_type": "code",
   "execution_count": 23,
   "id": "545866a2",
   "metadata": {
    "execution": {
     "iopub.execute_input": "2024-03-11T20:40:23.114137Z",
     "iopub.status.busy": "2024-03-11T20:40:23.113684Z",
     "iopub.status.idle": "2024-03-11T20:40:23.125507Z",
     "shell.execute_reply": "2024-03-11T20:40:23.123567Z"
    },
    "papermill": {
     "duration": 0.031498,
     "end_time": "2024-03-11T20:40:23.128427",
     "exception": false,
     "start_time": "2024-03-11T20:40:23.096929",
     "status": "completed"
    },
    "tags": []
   },
   "outputs": [
    {
     "name": "stdout",
     "output_type": "stream",
     "text": [
      "93 17 21 48\n",
      " \n",
      "True Positive value is:  48\n",
      "True Negative value is:  93\n",
      "False Positive value is:  17\n",
      "False Negative value is:  21\n"
     ]
    }
   ],
   "source": [
    "cm = confusion_matrix(y_test, y_pred)\n",
    "tn, fp, fn, tp = confusion_matrix(y_test, y_pred).ravel()\n",
    "print(tn,fp,fn,tp)\n",
    "print(\" \")\n",
    "print(\"True Positive value is: \",tp)\n",
    "print(\"True Negative value is: \",tn)\n",
    "print(\"False Positive value is: \",fp)\n",
    "print(\"False Negative value is: \",fn)"
   ]
  },
  {
   "cell_type": "markdown",
   "id": "8a7220ef",
   "metadata": {
    "papermill": {
     "duration": 0.020685,
     "end_time": "2024-03-11T20:40:23.167898",
     "exception": false,
     "start_time": "2024-03-11T20:40:23.147213",
     "status": "completed"
    },
    "tags": []
   },
   "source": [
    "Precision talks about how precise/accurate your model is out of those predicted positive, how many of them are actual positive."
   ]
  },
  {
   "cell_type": "code",
   "execution_count": 24,
   "id": "72fcbaf5",
   "metadata": {
    "execution": {
     "iopub.execute_input": "2024-03-11T20:40:23.209418Z",
     "iopub.status.busy": "2024-03-11T20:40:23.208836Z",
     "iopub.status.idle": "2024-03-11T20:40:23.216165Z",
     "shell.execute_reply": "2024-03-11T20:40:23.214837Z"
    },
    "papermill": {
     "duration": 0.033116,
     "end_time": "2024-03-11T20:40:23.219374",
     "exception": false,
     "start_time": "2024-03-11T20:40:23.186258",
     "status": "completed"
    },
    "tags": []
   },
   "outputs": [
    {
     "name": "stdout",
     "output_type": "stream",
     "text": [
      "Precision is:  0.7384615384615385\n"
     ]
    }
   ],
   "source": [
    "precision = (tp)/((tp+fp))\n",
    "print(\"Precision is: \",precision)"
   ]
  },
  {
   "cell_type": "markdown",
   "id": "66df4e1e",
   "metadata": {
    "papermill": {
     "duration": 0.018241,
     "end_time": "2024-03-11T20:40:23.254844",
     "exception": false,
     "start_time": "2024-03-11T20:40:23.236603",
     "status": "completed"
    },
    "tags": []
   },
   "source": [
    "Recall actually calculates how many of the Actual Positives our model capture through labeling it as Positive (True Positive)"
   ]
  },
  {
   "cell_type": "code",
   "execution_count": 25,
   "id": "78284726",
   "metadata": {
    "execution": {
     "iopub.execute_input": "2024-03-11T20:40:23.377600Z",
     "iopub.status.busy": "2024-03-11T20:40:23.377217Z",
     "iopub.status.idle": "2024-03-11T20:40:23.383796Z",
     "shell.execute_reply": "2024-03-11T20:40:23.382140Z"
    },
    "papermill": {
     "duration": 0.112735,
     "end_time": "2024-03-11T20:40:23.386739",
     "exception": false,
     "start_time": "2024-03-11T20:40:23.274004",
     "status": "completed"
    },
    "tags": []
   },
   "outputs": [
    {
     "name": "stdout",
     "output_type": "stream",
     "text": [
      "Recall is:  0.6956521739130435\n"
     ]
    }
   ],
   "source": [
    "recall = (tp)/((tp+fn))\n",
    "print(\"Recall is: \",recall)"
   ]
  },
  {
   "cell_type": "markdown",
   "id": "b421a22f",
   "metadata": {
    "papermill": {
     "duration": 0.024864,
     "end_time": "2024-03-11T20:40:23.433846",
     "exception": false,
     "start_time": "2024-03-11T20:40:23.408982",
     "status": "completed"
    },
    "tags": []
   },
   "source": [
    "# **Confusion Matrix Visualisation using HeatMap**"
   ]
  },
  {
   "cell_type": "code",
   "execution_count": 26,
   "id": "f58d096b",
   "metadata": {
    "execution": {
     "iopub.execute_input": "2024-03-11T20:40:23.482537Z",
     "iopub.status.busy": "2024-03-11T20:40:23.481937Z",
     "iopub.status.idle": "2024-03-11T20:40:24.433175Z",
     "shell.execute_reply": "2024-03-11T20:40:24.431592Z"
    },
    "papermill": {
     "duration": 0.980804,
     "end_time": "2024-03-11T20:40:24.436210",
     "exception": false,
     "start_time": "2024-03-11T20:40:23.455406",
     "status": "completed"
    },
    "tags": []
   },
   "outputs": [
    {
     "data": {
      "image/png": "[encoded data removed]",
      "text/plain": [
       "<Figure size 640x480 with 2 Axes>"
      ]
     },
     "metadata": {},
     "output_type": "display_data"
    }
   ],
   "source": [
    "import seaborn as sns\n",
    "import matplotlib.pyplot as plt\n",
    "\n",
    "ax= plt.subplot()\n",
    "sns.heatmap(cm, annot=True, fmt='g', ax=ax);\n",
    "\n",
    "ax.set_xlabel('Predicted labels');ax.set_ylabel('True labels');\n",
    "ax.set_title('Confusion Matrix');"
   ]
  },
  {
   "cell_type": "markdown",
   "id": "dacc4d8f",
   "metadata": {
    "papermill": {
     "duration": 0.015881,
     "end_time": "2024-03-11T20:40:24.468896",
     "exception": false,
     "start_time": "2024-03-11T20:40:24.453015",
     "status": "completed"
    },
    "tags": []
   },
   "source": [
    "# **Conclusion**"
   ]
  },
  {
   "cell_type": "markdown",
   "id": "4b89d2dd",
   "metadata": {
    "papermill": {
     "duration": 0.0165,
     "end_time": "2024-03-11T20:40:24.504954",
     "exception": false,
     "start_time": "2024-03-11T20:40:24.488454",
     "status": "completed"
    },
    "tags": []
   },
   "source": [
    "From the above results we can state that:\n",
    "\n",
    "Our model predicts (True Positive) 48 True values as True.\n",
    "Where as it predicts (True Negative) 92 False values as False.\n",
    "False positive values are quite low (18) which means that our model predict 18 True as False. It is also known as Type I error.\n",
    "Also  False negative values are quite low too (21) which means that our model predict 21 False values as True which is also known as Type II error.\n"
   ]
  }
 ],
 "metadata": {
  "kaggle": {
   "accelerator": "none",
   "dataSources": [
    {
     "datasetId": 1818188,
     "sourceId": 2965537,
     "sourceType": "datasetVersion"
    }
   ],
   "dockerImageVersionId": 30664,
   "isGpuEnabled": false,
   "isInternetEnabled": true,
   "language": "python",
   "sourceType": "notebook"
  },
  "kernelspec": {
   "display_name": "Python 3 (ipykernel)",
   "language": "python",
   "name": "python3"
  },
  "language_info": {
   "codemirror_mode": {
    "name": "ipython",
    "version": 3
   },
   "file_extension": ".py",
   "mimetype": "text/x-python",
   "name": "python",
   "nbconvert_exporter": "python",
   "pygments_lexer": "ipython3",
   "version": "3.10.9"
  },
  "papermill": {
   "default_parameters": {},
   "duration": 10.226312,
   "end_time": "2024-03-11T20:40:25.247605",
   "environment_variables": {},
   "exception": null,
   "input_path": "__notebook__.ipynb",
   "output_path": "__notebook__.ipynb",
   "parameters": {},
   "start_time": "2024-03-11T20:40:15.021293",
   "version": "2.5.0"
  }
 },
 "nbformat": 4,
 "nbformat_minor": 5
}
